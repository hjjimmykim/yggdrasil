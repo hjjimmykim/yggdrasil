{
 "cells": [
  {
   "cell_type": "markdown",
   "metadata": {},
   "source": [
    "# Import libraries"
   ]
  },
  {
   "cell_type": "code",
   "execution_count": 73,
   "metadata": {
    "collapsed": true
   },
   "outputs": [],
   "source": [
    "# Standard\n",
    "import numpy as np\n",
    "import matplotlib.pyplot as plt\n",
    "import time\n",
    "\n",
    "# Extract ohlcv data\n",
    "from read_data_cmc import extract_data\n",
    "\n",
    "# Torch\n",
    "import torch\n",
    "import torch.nn as nn\n",
    "import torch.nn.functional as F\n",
    "import torch.optim as optim"
   ]
  },
  {
   "cell_type": "markdown",
   "metadata": {},
   "source": [
    "# Set parameters"
   ]
  },
  {
   "cell_type": "code",
   "execution_count": 88,
   "metadata": {
    "collapsed": true
   },
   "outputs": [],
   "source": [
    "# Parameters\n",
    "\n",
    "# cuda\n",
    "use_cuda = 1\n",
    "\n",
    "# Random seed\n",
    "num_seed = 1\n",
    "torch.manual_seed(num_seed)\n",
    "if use_cuda:\n",
    "    torch.cuda.manual_seed(num_seed)\n",
    "    \n",
    "N_ep = 10                    # Number of episodes\n",
    "ep_rec = max(1,int(N_ep/10)) # Print time every ep_rec episodes\n",
    "test_prop = 0.2              # Proportion of data set aside for testing (i.e. unseen data)\n",
    "alpha = 0.1                  # Learning rate\n",
    "path_plots = '/plots/'       # Path where plots will be saved"
   ]
  },
  {
   "cell_type": "markdown",
   "metadata": {},
   "source": [
    "# Define model"
   ]
  },
  {
   "cell_type": "code",
   "execution_count": 75,
   "metadata": {
    "collapsed": true
   },
   "outputs": [],
   "source": [
    "# Model\n",
    "class yggdrasil(nn.Module):\n",
    "    def __init__(self, input_dim=5, hidden_dim=10):\n",
    "        super(yggdrasil, self).__init__()\n",
    "        self.input_dim = input_dim\n",
    "        self.hidden_dim = hidden_dim\n",
    "        \n",
    "        # LSTM 1\n",
    "        self.lstm1 = nn.LSTMCell(input_dim, hidden_dim)\n",
    "        # LSTM 2\n",
    "        self.lstm2 = nn.LSTMCell(hidden_dim, hidden_dim)\n",
    "        # Feedforward\n",
    "        self.ff = nn.Linear(hidden_dim, input_dim)\n",
    "        \n",
    "    def forward(self, ohlcv, future = 0):\n",
    "        # ohlcv = num_timepoints x 5\n",
    "        # outputs = (num_timepoints + future) x 5\n",
    "\n",
    "        outputs = []\n",
    "        \n",
    "        # Initializations for lstm1\n",
    "        h1_t = torch.zeros(1, self.hidden_dim)\n",
    "        c1_t = torch.zeros(1, self.hidden_dim)\n",
    "        # Initializations for lstm2\n",
    "        h2_t = torch.zeros(1, self.hidden_dim)\n",
    "        c2_t = torch.zeros(1, self.hidden_dim)\n",
    "        if use_cuda:\n",
    "            h1_t = h1_t.cuda()\n",
    "            c1_t = c1_t.cuda()\n",
    "            h2_t = h2_t.cuda()\n",
    "            c2_t = c2_t.cuda()\n",
    "\n",
    "        # Iterate\n",
    "        for i in range(ohlcv.size(0)):\n",
    "            h1_t,c1_t = self.lstm1(ohlcv[i].view(1,-1), (h1_t,c1_t))\n",
    "            h2_t,c2_t = self.lstm2(h1_t, (h2_t,c2_t))\n",
    "            output = self.ff(h2_t)\n",
    "            outputs += [output]\n",
    "            \n",
    "        # Predict the future\n",
    "        for i in range(future):\n",
    "            h1_t,c1_t = self.lstm1(output, (h1_t,c1_t))\n",
    "            h2_t,c2_t = self.lstm2(h1_t, (h2_t,c2_t))\n",
    "            output = self.ff(h2_t)\n",
    "            outputs += [output]\n",
    "    \n",
    "        outputs = torch.stack(outputs, 1).view(ohlcv.size(0)+future,self.input_dim)\n",
    "        return outputs"
   ]
  },
  {
   "cell_type": "markdown",
   "metadata": {},
   "source": [
    "# Load Data"
   ]
  },
  {
   "cell_type": "code",
   "execution_count": 76,
   "metadata": {
    "collapsed": true
   },
   "outputs": [],
   "source": [
    "# Extract data, define model and learning settings\n",
    "o,h,l,c,v,cap = extract_data() # opening, high, low, closing, volume, capitalization\n",
    "data = np.vstack([o,h,l,c,v])  # ignore market cap\n",
    "data = data.T                  # num_data x 5\n",
    "\n",
    "# Cut off data\n",
    "#data = data[650:]\n",
    "\n",
    "# Normalize data <- crucial\n",
    "data = data/data.max(0)\n",
    "\n",
    "# Toy data\n",
    "#data = np.sin(np.linspace(0,10*np.pi,1000).reshape(-1,1))\n",
    "\n",
    "data = torch.from_numpy(data).float() # Convert to tensor\n",
    "if use_cuda:\n",
    "    data = data.cuda()\n",
    "\n",
    "num_data = len(data)                    # Number of data points\n",
    "num_train = int((1-test_prop)*num_data) # Number of training data\n",
    "\n",
    "# Train-test split\n",
    "data_train = data[:num_train]\n",
    "data_test = data[num_train:]\n",
    "\n",
    "# Set up observations & targets\n",
    "x_train = data_train[:-1] # Observations (won't use the last point to make a prediction)\n",
    "y_train = data_train[1:]  # Targets (won't try to predict the first point)\n",
    "x_test = data_test[:-1]\n",
    "y_test = data_test[1:]"
   ]
  },
  {
   "cell_type": "markdown",
   "metadata": {},
   "source": [
    "# Train"
   ]
  },
  {
   "cell_type": "code",
   "execution_count": 77,
   "metadata": {
    "scrolled": false
   },
   "outputs": [
    {
     "name": "stdout",
     "output_type": "stream",
     "text": [
      "Runtime for episodes 0-1: 15.37933874130249\n",
      "Runtime for episodes 1-2: 7.222852945327759\n",
      "Runtime for episodes 2-3: 7.393747329711914\n",
      "Runtime for episodes 3-4: 7.492732048034668\n",
      "Runtime for episodes 4-5: 7.533371686935425\n",
      "Runtime for episodes 5-6: 7.513921022415161\n",
      "Runtime for episodes 6-7: 7.568416595458984\n",
      "Runtime for episodes 7-8: 7.567430257797241\n",
      "Runtime for episodes 8-9: 7.384978771209717\n",
      "Total time: 75.05695915222168 s\n"
     ]
    }
   ],
   "source": [
    "# Initialize model\n",
    "model = yggdrasil(input_dim=x_train.size(1),hidden_dim=50,num_layers=1)\n",
    "# Loss function\n",
    "criterion = nn.MSELoss()\n",
    "# Optimizer (LBFGS works; SGD seems to fail even for toy data)\n",
    "optimizer = optim.LBFGS(model.parameters(), lr = alpha)\n",
    "if use_cuda:\n",
    "    model = model.cuda()\n",
    "    criterion = criterion.cuda()\n",
    "# Store training loss\n",
    "losses = []\n",
    "        \n",
    "# Training\n",
    "t_start = time.time() # Start time\n",
    "t_p1 = time.time()    # Partial time\n",
    "for i_ep in range(N_ep):\n",
    "    # For LBFGS\n",
    "    def closure():\n",
    "        optimizer.zero_grad()\n",
    "        outputs = model(x_train)\n",
    "        loss = criterion(outputs, y_train)\n",
    "        losses.append(loss)\n",
    "        loss.backward()\n",
    "        return loss\n",
    "    \n",
    "    optimizer.step(closure)\n",
    "    \n",
    "    # Time stuff\n",
    "    if i_ep != 0 and i_ep % ep_rec == 0:\n",
    "        t_p2 = time.time() # Partial time\n",
    "        print('Runtime for episodes ' + str(i_ep-ep_rec) + '-' + str(i_ep) + ': ' + str(t_p2-t_p1))\n",
    "        t_p1 = t_p2\n",
    "    \n",
    "t_finish = time.time() # Finish time\n",
    "print('Total time: ' + str(t_finish-t_start) + ' s')"
   ]
  },
  {
   "cell_type": "markdown",
   "metadata": {},
   "source": [
    "# Predictions on training data"
   ]
  },
  {
   "cell_type": "code",
   "execution_count": 78,
   "metadata": {},
   "outputs": [
    {
     "data": {
      "image/png": "[encoded data removed]",
      "text/plain": [
       "<matplotlib.figure.Figure at 0x7fad1ff5dfd0>"
      ]
     },
     "metadata": {},
     "output_type": "display_data"
    }
   ],
   "source": [
    "train_output = model(x_train)\n",
    "plot_type = 0\n",
    "\n",
    "plt.figure()\n",
    "ohlcv_train = y_train.transpose(0,1)\n",
    "ohlcv_train_pred = train_output.transpose(0,1)\n",
    "plt.plot(ohlcv_train[plot_type],label='True data')\n",
    "plt.plot(ohlcv_train_pred[plot_type].detach(),label='Predictions')\n",
    "\n",
    "test_output = model(x_test)\n",
    "plt.legend()\n",
    "plt.savefig(path_plots+'train.png')\n",
    "plt.show()"
   ]
  },
  {
   "cell_type": "markdown",
   "metadata": {},
   "source": [
    "# Training loss"
   ]
  },
  {
   "cell_type": "code",
   "execution_count": 83,
   "metadata": {},
   "outputs": [
    {
     "data": {
      "image/png": "[encoded data removed]",
      "text/plain": [
       "<matplotlib.figure.Figure at 0x7fad15e21e80>"
      ]
     },
     "metadata": {},
     "output_type": "display_data"
    }
   ],
   "source": [
    "plt.plot(losses)\n",
    "plt.savefig('train_loss.png')\n",
    "plt.show()"
   ]
  },
  {
   "cell_type": "markdown",
   "metadata": {
    "collapsed": true
   },
   "source": [
    "# Predictions on unseen data"
   ]
  },
  {
   "cell_type": "code",
   "execution_count": 80,
   "metadata": {
    "scrolled": true
   },
   "outputs": [
    {
     "data": {
      "image/png": "[encoded data removed]",
      "text/plain": [
       "<matplotlib.figure.Figure at 0x7fad144da0b8>"
      ]
     },
     "metadata": {},
     "output_type": "display_data"
    }
   ],
   "source": [
    "ohlcv_test = y_test.transpose(0,1)\n",
    "ohlcv_test_pred = model(x_test).transpose(0,1)\n",
    "plt.plot(ohlcv_test[plot_type],label='True data')\n",
    "plt.plot(ohlcv_test_pred[plot_type].detach(),label='Predictions')\n",
    "\n",
    "plt.legend()\n",
    "plt.savefig(path_plots+'test.png')\n",
    "plt.show()\n"
   ]
  },
  {
   "cell_type": "markdown",
   "metadata": {},
   "source": [
    "# Predict the future"
   ]
  },
  {
   "cell_type": "code",
   "execution_count": 89,
   "metadata": {},
   "outputs": [
    {
     "ename": "FileNotFoundError",
     "evalue": "[Errno 2] No such file or directory: './plots/future.png'",
     "output_type": "error",
     "traceback": [
      "\u001b[0;31m---------------------------------------------------------------------------\u001b[0m",
      "\u001b[0;31mFileNotFoundError\u001b[0m                         Traceback (most recent call last)",
      "\u001b[0;32m<ipython-input-89-1f068f762422>\u001b[0m in \u001b[0;36m<module>\u001b[0;34m()\u001b[0m\n\u001b[1;32m      5\u001b[0m \u001b[0;34m\u001b[0m\u001b[0m\n\u001b[1;32m      6\u001b[0m \u001b[0mplt\u001b[0m\u001b[0;34m.\u001b[0m\u001b[0mlegend\u001b[0m\u001b[0;34m(\u001b[0m\u001b[0;34m)\u001b[0m\u001b[0;34m\u001b[0m\u001b[0m\n\u001b[0;32m----> 7\u001b[0;31m \u001b[0mplt\u001b[0m\u001b[0;34m.\u001b[0m\u001b[0msavefig\u001b[0m\u001b[0;34m(\u001b[0m\u001b[0mpath_plots\u001b[0m \u001b[0;34m+\u001b[0m \u001b[0;34m'future.png'\u001b[0m\u001b[0;34m)\u001b[0m\u001b[0;34m\u001b[0m\u001b[0m\n\u001b[0m\u001b[1;32m      8\u001b[0m \u001b[0mplt\u001b[0m\u001b[0;34m.\u001b[0m\u001b[0mshow\u001b[0m\u001b[0;34m(\u001b[0m\u001b[0;34m)\u001b[0m\u001b[0;34m\u001b[0m\u001b[0m\n",
      "\u001b[0;32m/home/david/anaconda3/lib/python3.6/site-packages/matplotlib/pyplot.py\u001b[0m in \u001b[0;36msavefig\u001b[0;34m(*args, **kwargs)\u001b[0m\n\u001b[1;32m    695\u001b[0m \u001b[0;32mdef\u001b[0m \u001b[0msavefig\u001b[0m\u001b[0;34m(\u001b[0m\u001b[0;34m*\u001b[0m\u001b[0margs\u001b[0m\u001b[0;34m,\u001b[0m \u001b[0;34m**\u001b[0m\u001b[0mkwargs\u001b[0m\u001b[0;34m)\u001b[0m\u001b[0;34m:\u001b[0m\u001b[0;34m\u001b[0m\u001b[0m\n\u001b[1;32m    696\u001b[0m     \u001b[0mfig\u001b[0m \u001b[0;34m=\u001b[0m \u001b[0mgcf\u001b[0m\u001b[0;34m(\u001b[0m\u001b[0;34m)\u001b[0m\u001b[0;34m\u001b[0m\u001b[0m\n\u001b[0;32m--> 697\u001b[0;31m     \u001b[0mres\u001b[0m \u001b[0;34m=\u001b[0m \u001b[0mfig\u001b[0m\u001b[0;34m.\u001b[0m\u001b[0msavefig\u001b[0m\u001b[0;34m(\u001b[0m\u001b[0;34m*\u001b[0m\u001b[0margs\u001b[0m\u001b[0;34m,\u001b[0m \u001b[0;34m**\u001b[0m\u001b[0mkwargs\u001b[0m\u001b[0;34m)\u001b[0m\u001b[0;34m\u001b[0m\u001b[0m\n\u001b[0m\u001b[1;32m    698\u001b[0m     \u001b[0mfig\u001b[0m\u001b[0;34m.\u001b[0m\u001b[0mcanvas\u001b[0m\u001b[0;34m.\u001b[0m\u001b[0mdraw_idle\u001b[0m\u001b[0;34m(\u001b[0m\u001b[0;34m)\u001b[0m   \u001b[0;31m# need this if 'transparent=True' to reset colors\u001b[0m\u001b[0;34m\u001b[0m\u001b[0m\n\u001b[1;32m    699\u001b[0m     \u001b[0;32mreturn\u001b[0m \u001b[0mres\u001b[0m\u001b[0;34m\u001b[0m\u001b[0m\n",
      "\u001b[0;32m/home/david/anaconda3/lib/python3.6/site-packages/matplotlib/figure.py\u001b[0m in \u001b[0;36msavefig\u001b[0;34m(self, *args, **kwargs)\u001b[0m\n\u001b[1;32m   1571\u001b[0m             \u001b[0mself\u001b[0m\u001b[0;34m.\u001b[0m\u001b[0mset_frameon\u001b[0m\u001b[0;34m(\u001b[0m\u001b[0mframeon\u001b[0m\u001b[0;34m)\u001b[0m\u001b[0;34m\u001b[0m\u001b[0m\n\u001b[1;32m   1572\u001b[0m \u001b[0;34m\u001b[0m\u001b[0m\n\u001b[0;32m-> 1573\u001b[0;31m         \u001b[0mself\u001b[0m\u001b[0;34m.\u001b[0m\u001b[0mcanvas\u001b[0m\u001b[0;34m.\u001b[0m\u001b[0mprint_figure\u001b[0m\u001b[0;34m(\u001b[0m\u001b[0;34m*\u001b[0m\u001b[0margs\u001b[0m\u001b[0;34m,\u001b[0m \u001b[0;34m**\u001b[0m\u001b[0mkwargs\u001b[0m\u001b[0;34m)\u001b[0m\u001b[0;34m\u001b[0m\u001b[0m\n\u001b[0m\u001b[1;32m   1574\u001b[0m \u001b[0;34m\u001b[0m\u001b[0m\n\u001b[1;32m   1575\u001b[0m         \u001b[0;32mif\u001b[0m \u001b[0mframeon\u001b[0m\u001b[0;34m:\u001b[0m\u001b[0;34m\u001b[0m\u001b[0m\n",
      "\u001b[0;32m/home/david/anaconda3/lib/python3.6/site-packages/matplotlib/backend_bases.py\u001b[0m in \u001b[0;36mprint_figure\u001b[0;34m(self, filename, dpi, facecolor, edgecolor, orientation, format, **kwargs)\u001b[0m\n\u001b[1;32m   2250\u001b[0m                 \u001b[0morientation\u001b[0m\u001b[0;34m=\u001b[0m\u001b[0morientation\u001b[0m\u001b[0;34m,\u001b[0m\u001b[0;34m\u001b[0m\u001b[0m\n\u001b[1;32m   2251\u001b[0m                 \u001b[0mbbox_inches_restore\u001b[0m\u001b[0;34m=\u001b[0m\u001b[0m_bbox_inches_restore\u001b[0m\u001b[0;34m,\u001b[0m\u001b[0;34m\u001b[0m\u001b[0m\n\u001b[0;32m-> 2252\u001b[0;31m                 **kwargs)\n\u001b[0m\u001b[1;32m   2253\u001b[0m         \u001b[0;32mfinally\u001b[0m\u001b[0;34m:\u001b[0m\u001b[0;34m\u001b[0m\u001b[0m\n\u001b[1;32m   2254\u001b[0m             \u001b[0;32mif\u001b[0m \u001b[0mbbox_inches\u001b[0m \u001b[0;32mand\u001b[0m \u001b[0mrestore_bbox\u001b[0m\u001b[0;34m:\u001b[0m\u001b[0;34m\u001b[0m\u001b[0m\n",
      "\u001b[0;32m/home/david/anaconda3/lib/python3.6/site-packages/matplotlib/backends/backend_agg.py\u001b[0m in \u001b[0;36mprint_png\u001b[0;34m(self, filename_or_obj, *args, **kwargs)\u001b[0m\n\u001b[1;32m    548\u001b[0m         \u001b[0mrenderer\u001b[0m\u001b[0;34m.\u001b[0m\u001b[0mdpi\u001b[0m \u001b[0;34m=\u001b[0m \u001b[0mself\u001b[0m\u001b[0;34m.\u001b[0m\u001b[0mfigure\u001b[0m\u001b[0;34m.\u001b[0m\u001b[0mdpi\u001b[0m\u001b[0;34m\u001b[0m\u001b[0m\n\u001b[1;32m    549\u001b[0m         \u001b[0;32mif\u001b[0m \u001b[0mis_string_like\u001b[0m\u001b[0;34m(\u001b[0m\u001b[0mfilename_or_obj\u001b[0m\u001b[0;34m)\u001b[0m\u001b[0;34m:\u001b[0m\u001b[0;34m\u001b[0m\u001b[0m\n\u001b[0;32m--> 550\u001b[0;31m             \u001b[0mfilename_or_obj\u001b[0m \u001b[0;34m=\u001b[0m \u001b[0mopen\u001b[0m\u001b[0;34m(\u001b[0m\u001b[0mfilename_or_obj\u001b[0m\u001b[0;34m,\u001b[0m \u001b[0;34m'wb'\u001b[0m\u001b[0;34m)\u001b[0m\u001b[0;34m\u001b[0m\u001b[0m\n\u001b[0m\u001b[1;32m    551\u001b[0m             \u001b[0mclose\u001b[0m \u001b[0;34m=\u001b[0m \u001b[0;32mTrue\u001b[0m\u001b[0;34m\u001b[0m\u001b[0m\n\u001b[1;32m    552\u001b[0m         \u001b[0;32melse\u001b[0m\u001b[0;34m:\u001b[0m\u001b[0;34m\u001b[0m\u001b[0m\n",
      "\u001b[0;31mFileNotFoundError\u001b[0m: [Errno 2] No such file or directory: './plots/future.png'"
     ]
    }
   ],
   "source": [
    "ohlcv_test = torch.cat([ohlcv_train,y_test.transpose(0,1)],1)\n",
    "ohlcv_test_pred = model(x_train,future=len(x_test)).transpose(0,1)\n",
    "plt.plot(ohlcv_test[plot_type],label='True data')\n",
    "plt.plot(ohlcv_test_pred[plot_type].detach(),label='Predictions')\n",
    "\n",
    "plt.legend()\n",
    "plt.savefig(path_plots + 'future.png')\n",
    "plt.show()"
   ]
  },
  {
   "cell_type": "code",
   "execution_count": null,
   "metadata": {
    "collapsed": true
   },
   "outputs": [],
   "source": []
  }
 ],
 "metadata": {
  "anaconda-cloud": {},
  "kernelspec": {
   "display_name": "Python 3",
   "language": "python",
   "name": "python3"
  },
  "language_info": {
   "codemirror_mode": {
    "name": "ipython",
    "version": 3
   },
   "file_extension": ".py",
   "mimetype": "text/x-python",
   "name": "python",
   "nbconvert_exporter": "python",
   "pygments_lexer": "ipython3",
   "version": "3.6.1"
  }
 },
 "nbformat": 4,
 "nbformat_minor": 1
}
