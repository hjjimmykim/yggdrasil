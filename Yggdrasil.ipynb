{
 "cells": [
  {
   "cell_type": "markdown",
   "metadata": {},
   "source": [
    "# Import libraries"
   ]
  },
  {
   "cell_type": "code",
   "execution_count": 1,
   "metadata": {
    "collapsed": false
   },
   "outputs": [
    {
     "ename": "ImportError",
     "evalue": "No module named 'torch'",
     "output_type": "error",
     "traceback": [
      "\u001b[0;31m---------------------------------------------------------------------------\u001b[0m",
      "\u001b[0;31mImportError\u001b[0m                               Traceback (most recent call last)",
      "\u001b[0;32m<ipython-input-1-e0295dbe2157>\u001b[0m in \u001b[0;36m<module>\u001b[0;34m()\u001b[0m\n\u001b[1;32m      7\u001b[0m \u001b[1;33m\u001b[0m\u001b[0m\n\u001b[1;32m      8\u001b[0m \u001b[1;31m# Torch\u001b[0m\u001b[1;33m\u001b[0m\u001b[1;33m\u001b[0m\u001b[0m\n\u001b[0;32m----> 9\u001b[0;31m \u001b[1;32mimport\u001b[0m \u001b[0mtorch\u001b[0m\u001b[1;33m\u001b[0m\u001b[0m\n\u001b[0m\u001b[1;32m     10\u001b[0m \u001b[1;32mimport\u001b[0m \u001b[0mtorch\u001b[0m\u001b[1;33m.\u001b[0m\u001b[0mnn\u001b[0m \u001b[1;32mas\u001b[0m \u001b[0mnn\u001b[0m\u001b[1;33m\u001b[0m\u001b[0m\n\u001b[1;32m     11\u001b[0m \u001b[1;32mimport\u001b[0m \u001b[0mtorch\u001b[0m\u001b[1;33m.\u001b[0m\u001b[0mnn\u001b[0m\u001b[1;33m.\u001b[0m\u001b[0mfunctional\u001b[0m \u001b[1;32mas\u001b[0m \u001b[0mF\u001b[0m\u001b[1;33m\u001b[0m\u001b[0m\n",
      "\u001b[0;31mImportError\u001b[0m: No module named 'torch'"
     ]
    }
   ],
   "source": [
    "import numpy as np\n",
    "import matplotlib.pyplot as plt\n",
    "import time\n",
    "\n",
    "# Extract ohlcv data\n",
    "from read_data_cmc import extract_data\n",
    "\n",
    "# Torch\n",
    "import torch\n",
    "import torch.nn as nn\n",
    "import torch.nn.functional as F\n",
    "import torch.optim as optim"
   ]
  },
  {
   "cell_type": "markdown",
   "metadata": {},
   "source": [
    "# Set parameters"
   ]
  },
  {
   "cell_type": "code",
   "execution_count": null,
   "metadata": {
    "collapsed": true
   },
   "outputs": [],
   "source": [
    "# Parameters\n",
    "torch.manual_seed(1) # Random seed\n",
    "N_ep = 10 # Number of episodes\n",
    "test_prop = 0.2 # Proportion of data set aside for test\n",
    "alpha = 0.01 # Learning rate"
   ]
  },
  {
   "cell_type": "markdown",
   "metadata": {},
   "source": [
    "# Define model"
   ]
  },
  {
   "cell_type": "code",
   "execution_count": 2,
   "metadata": {
    "collapsed": false
   },
   "outputs": [
    {
     "ename": "NameError",
     "evalue": "name 'nn' is not defined",
     "output_type": "error",
     "traceback": [
      "\u001b[0;31m---------------------------------------------------------------------------\u001b[0m",
      "\u001b[0;31mNameError\u001b[0m                                 Traceback (most recent call last)",
      "\u001b[0;32m<ipython-input-2-7e914691251d>\u001b[0m in \u001b[0;36m<module>\u001b[0;34m()\u001b[0m\n\u001b[1;32m      1\u001b[0m \u001b[1;31m# Model\u001b[0m\u001b[1;33m\u001b[0m\u001b[1;33m\u001b[0m\u001b[0m\n\u001b[0;32m----> 2\u001b[0;31m \u001b[1;32mclass\u001b[0m \u001b[0myggdrasil\u001b[0m\u001b[1;33m(\u001b[0m\u001b[0mnn\u001b[0m\u001b[1;33m.\u001b[0m\u001b[0mModule\u001b[0m\u001b[1;33m)\u001b[0m\u001b[1;33m:\u001b[0m\u001b[1;33m\u001b[0m\u001b[0m\n\u001b[0m\u001b[1;32m      3\u001b[0m     \u001b[1;32mdef\u001b[0m \u001b[0m__init__\u001b[0m\u001b[1;33m(\u001b[0m\u001b[0mself\u001b[0m\u001b[1;33m,\u001b[0m \u001b[0minput_dim\u001b[0m\u001b[1;33m=\u001b[0m\u001b[1;36m5\u001b[0m\u001b[1;33m,\u001b[0m \u001b[0mhidden_dim\u001b[0m\u001b[1;33m=\u001b[0m\u001b[1;36m100\u001b[0m\u001b[1;33m,\u001b[0m \u001b[0mnum_layers\u001b[0m\u001b[1;33m=\u001b[0m\u001b[1;36m1\u001b[0m\u001b[1;33m)\u001b[0m\u001b[1;33m:\u001b[0m\u001b[1;33m\u001b[0m\u001b[0m\n\u001b[1;32m      4\u001b[0m         \u001b[0msuper\u001b[0m\u001b[1;33m(\u001b[0m\u001b[0myggdrasil\u001b[0m\u001b[1;33m,\u001b[0m \u001b[0mself\u001b[0m\u001b[1;33m)\u001b[0m\u001b[1;33m.\u001b[0m\u001b[0m__init__\u001b[0m\u001b[1;33m(\u001b[0m\u001b[1;33m)\u001b[0m\u001b[1;33m\u001b[0m\u001b[0m\n\u001b[1;32m      5\u001b[0m         \u001b[0mself\u001b[0m\u001b[1;33m.\u001b[0m\u001b[0minput_dim\u001b[0m \u001b[1;33m=\u001b[0m \u001b[0minput_dim\u001b[0m\u001b[1;33m\u001b[0m\u001b[0m\n",
      "\u001b[0;31mNameError\u001b[0m: name 'nn' is not defined"
     ]
    }
   ],
   "source": [
    "# Model\n",
    "class yggdrasil(nn.Module):\n",
    "    def __init__(self, input_dim=5, hidden_dim=100, num_layers=1):\n",
    "        super(yggdrasil, self).__init__()\n",
    "        self.input_dim = input_dim\n",
    "        self.hidden_dim = hidden_dim\n",
    "        self.num_layers = num_layers\n",
    "        \n",
    "        # LSTM 1\n",
    "        self.lstm1 = nn.LSTMCell(input_dim, hidden_dim)\n",
    "        # LSTM 2\n",
    "        self.lstm2 = nn.LSTMCell(hidden_dim, input_dim)\n",
    "        \n",
    "    def forward(self, ohlcv, future = 0):\n",
    "        # ohlcv = num_timepoints x 5\n",
    "        # outputs = (num_timepoints + future) x 5\n",
    "    \n",
    "        # Try to predict future steps after data end\n",
    "        outputs = []\n",
    "        \n",
    "        # Initializations for lstm1\n",
    "        h1_t = torch.zeros(self.input_dim, self.hidden_dim)\n",
    "        c1_t = torch.zeros(self.input_dim, self.hidden_dim)\n",
    "        # Initializations for lstm2\n",
    "        h2_t = torch.zeros(self.input_dim, self.hidden_dim)\n",
    "        c2_t = torch.zeros(self.input_dim, self.hidden_dim)\n",
    "        \n",
    "        # Iterate\n",
    "        for i in range(ohlcv.size(0)):\n",
    "            h1_t,c1_t = self.lstm1(ohlcv[i], (h1_t,c1_t))\n",
    "            h2_t,c2_t = self.lstm2(h1_t, (h2_t,c2_t))\n",
    "            outputs += [h2_t]\n",
    "            \n",
    "        # Predict the future\n",
    "        for i in range(future):\n",
    "            h1_t,c1_t = self.lstm1(ohlcv[i], (h1_t,c1_t))\n",
    "            h2_t,c2_t = self.lstm2(h1_t, (h2_t,c2_t))\n",
    "            outputs += [h2_t]\n",
    "    \n",
    "        outputs = torch.stack(outputs, 1).squeeze()\n",
    "        return outputs"
   ]
  },
  {
   "cell_type": "markdown",
   "metadata": {},
   "source": [
    "# Train"
   ]
  },
  {
   "cell_type": "code",
   "execution_count": null,
   "metadata": {
    "collapsed": true
   },
   "outputs": [],
   "source": [
    "# Extract data, define model and learning settings\n",
    "o,h,l,c,v,cap = extract_data()\n",
    "data = np.vstack([o,h,l,c,v])\n",
    "data = data.T\n",
    "data = torch.from_numpy(data).float() # Convert to tensor\n",
    "\n",
    "num_data = len(data) # Number of data points\n",
    "num_train = int((1-test_prop)*num_data) # Number of training data\n",
    "\n",
    "# Train-test split\n",
    "data_train = data[:num_train]\n",
    "data_test = data[num_train:]\n",
    "\n",
    "# Set up observations & targets\n",
    "x_train = data_train[:-1] # Observations (won't use the last point to make a prediction)\n",
    "y_train = data_train[1:]  # Targets (won't try to predict the first point)\n",
    "x_test = data_test[:-1]\n",
    "y_test = data_test[1:]\n",
    "\n",
    "# Define model\n",
    "model = yggdrasil(input_dim=5,hidden_dim=100,num_layers=1)\n",
    "criterion = nn.MSELoss()\n",
    "optimizer = optim.LBFGS(model.parameters(), lr = alpha)\n",
    "        \n",
    "# Training\n",
    "t_start = time.time()\n",
    "t_p1 = time.time()\n",
    "for i_ep in range(N_ep):\n",
    "\n",
    "    optimizer.zero_grad()\n",
    "    outputs = model(x_train)\n",
    "    loss = criterion(outputs, y_train)\n",
    "    loss.backward()\n",
    "    optimizer.step()\n",
    "    \n",
    "    # Time stuff\n",
    "    t_p2 = time.time()\n",
    "    print('episode ' + str(i_ep) + ' time: ' + str(t_p2-t_p1))\n",
    "    t_p1 = t_p2\n",
    "    \n",
    "t_finish = time.time()\n",
    "print('Total time: ' + str(t_finish-t_start) + ' s')"
   ]
  },
  {
   "cell_type": "markdown",
   "metadata": {},
   "source": [
    "# Plot"
   ]
  },
  {
   "cell_type": "code",
   "execution_count": null,
   "metadata": {
    "collapsed": true
   },
   "outputs": [],
   "source": [
    "train_output = model(x_train)\n",
    "\n",
    "plt.figure()\n",
    "ohlcv_train = y_train.T\n",
    "ohlcv_train_pred = train_output.T\n",
    "plt.plot(y_train[0],label='True data')\n",
    "plt.plot(train_output[0],label='Predictions')\n",
    "\n",
    "test_output = model(x_test)"
   ]
  }
 ],
 "metadata": {
  "anaconda-cloud": {},
  "kernelspec": {
   "display_name": "Python [default]",
   "language": "python",
   "name": "python3"
  },
  "language_info": {
   "codemirror_mode": {
    "name": "ipython",
    "version": 3
   },
   "file_extension": ".py",
   "mimetype": "text/x-python",
   "name": "python",
   "nbconvert_exporter": "python",
   "pygments_lexer": "ipython3",
   "version": "3.5.2"
  }
 },
 "nbformat": 4,
 "nbformat_minor": 1
}
