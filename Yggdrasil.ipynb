{
 "cells": [
  {
   "cell_type": "markdown",
   "metadata": {},
   "source": [
    "# Import libraries"
   ]
  },
  {
   "cell_type": "code",
   "execution_count": 35,
   "metadata": {
    "collapsed": true
   },
   "outputs": [],
   "source": [
    "import numpy as np\n",
    "import matplotlib.pyplot as plt\n",
    "import time\n",
    "\n",
    "# Extract ohlcv data\n",
    "from read_data_cmc import extract_data\n",
    "\n",
    "# Torch\n",
    "import torch\n",
    "import torch.nn as nn\n",
    "import torch.nn.functional as F\n",
    "import torch.optim as optim"
   ]
  },
  {
   "cell_type": "markdown",
   "metadata": {},
   "source": [
    "# Set parameters"
   ]
  },
  {
   "cell_type": "code",
   "execution_count": 36,
   "metadata": {
    "collapsed": true
   },
   "outputs": [],
   "source": [
    "# Parameters\n",
    "use_cuda = 1 # Use cuda\n",
    "num_seed = 1 # Random seed\n",
    "torch.manual_seed(num_seed)\n",
    "if use_cuda:\n",
    "    torch.cuda.manual_seed(num_seed)\n",
    "N_ep = 10 # Number of episodes\n",
    "ep_rec = max(1,int(N_ep/10))\n",
    "test_prop = 0.2 # Proportion of data set aside for test\n",
    "alpha = 0.1 # Learning rate"
   ]
  },
  {
   "cell_type": "markdown",
   "metadata": {},
   "source": [
    "# Define model"
   ]
  },
  {
   "cell_type": "code",
   "execution_count": 37,
   "metadata": {
    "collapsed": true
   },
   "outputs": [],
   "source": [
    "# Model\n",
    "class yggdrasil(nn.Module):\n",
    "    def __init__(self, input_dim=5, hidden_dim=10, num_layers=1):\n",
    "        super(yggdrasil, self).__init__()\n",
    "        self.input_dim = input_dim\n",
    "        self.hidden_dim = hidden_dim\n",
    "        self.num_layers = num_layers\n",
    "        \n",
    "        # LSTM 1\n",
    "        self.lstm1 = nn.LSTMCell(input_dim, hidden_dim)\n",
    "        # LSTM 2\n",
    "        self.lstm2 = nn.LSTMCell(hidden_dim, hidden_dim)\n",
    "        # Feedforward\n",
    "        self.ff = nn.Linear(hidden_dim, input_dim)\n",
    "        \n",
    "    def forward(self, ohlcv, future = 0):\n",
    "        # ohlcv = num_timepoints x 5\n",
    "        # outputs = (num_timepoints + future) x 5\n",
    "    \n",
    "        # Try to predict future steps after data end\n",
    "        outputs = []\n",
    "        \n",
    "        # Initializations for lstm1\n",
    "        h1_t = torch.zeros(1, self.hidden_dim)\n",
    "        c1_t = torch.zeros(1, self.hidden_dim)\n",
    "        # Initializations for lstm2\n",
    "        h2_t = torch.zeros(1, self.hidden_dim)\n",
    "        c2_t = torch.zeros(1, self.hidden_dim)\n",
    "        if use_cuda:\n",
    "            h1_t = h1_t.cuda()\n",
    "            c1_t = c1_t.cuda()\n",
    "            h2_t = h2_t.cuda()\n",
    "            c2_t = c2_t.cuda()\n",
    "\n",
    "        # Iterate\n",
    "        for i in range(ohlcv.size(0)):\n",
    "            h1_t,c1_t = self.lstm1(ohlcv[i].view(1,-1), (h1_t,c1_t))\n",
    "            h2_t,c2_t = self.lstm2(h1_t, (h2_t,c2_t))\n",
    "            output = self.ff(h2_t)\n",
    "            outputs += [output]\n",
    "            \n",
    "        # Predict the future\n",
    "        for i in range(future):\n",
    "            h1_t,c1_t = self.lstm1(ohlcv[i], (h1_t,c1_t))\n",
    "            h2_t,c2_t = self.lstm2(h1_t, (h2_t,c2_t))\n",
    "            output = self.ff(h2_t)\n",
    "            outputs += [output]\n",
    "    \n",
    "        outputs = torch.stack(outputs, 1).view(ohlcv.size(0),self.input_dim)\n",
    "        return outputs"
   ]
  },
  {
   "cell_type": "markdown",
   "metadata": {},
   "source": [
    "# Load Data"
   ]
  },
  {
   "cell_type": "code",
   "execution_count": 38,
   "metadata": {},
   "outputs": [],
   "source": [
    "# Extract data, define model and learning settings\n",
    "o,h,l,c,v,cap = extract_data()\n",
    "data = np.vstack([o,h,l,c,v])\n",
    "data = data.T\n",
    "\n",
    "# Cut off data\n",
    "#data = data[650:]\n",
    "# Normalize data\n",
    "data = data/data.max(0)\n",
    "\n",
    "# Test data\n",
    "#data = np.sin(np.linspace(0,10*np.pi,1000).reshape(-1,1)) # Test data\n",
    "\n",
    "data = torch.from_numpy(data).float() # Convert to tensor\n",
    "if use_cuda:\n",
    "    data = data.cuda()\n",
    "\n",
    "num_data = len(data) # Number of data points\n",
    "num_train = int((1-test_prop)*num_data) # Number of training data\n",
    "\n",
    "# Train-test split\n",
    "data_train = data[:num_train]\n",
    "data_test = data[num_train:]\n",
    "\n",
    "# Set up observations & targets\n",
    "x_train = data_train[:-1] # Observations (won't use the last point to make a prediction)\n",
    "y_train = data_train[1:]  # Targets (won't try to predict the first point)\n",
    "x_test = data_test[:-1]\n",
    "y_test = data_test[1:]"
   ]
  },
  {
   "cell_type": "markdown",
   "metadata": {},
   "source": [
    "# Train"
   ]
  },
  {
   "cell_type": "code",
   "execution_count": 39,
   "metadata": {
    "scrolled": false
   },
   "outputs": [
    {
     "name": "stdout",
     "output_type": "stream",
     "text": [
      "Runtime for episodes 0-1: 14.68203616142273\n",
      "Runtime for episodes 1-2: 7.294959545135498\n",
      "Runtime for episodes 2-3: 7.3299219608306885\n",
      "Runtime for episodes 3-4: 7.3609373569488525\n",
      "Runtime for episodes 4-5: 7.502952575683594\n",
      "Runtime for episodes 5-6: 7.491405010223389\n",
      "Runtime for episodes 6-7: 7.4239373207092285\n",
      "Runtime for episodes 7-8: 7.532402992248535\n",
      "Runtime for episodes 8-9: 7.4567670822143555\n",
      "Total time: 74.07548522949219 s\n"
     ]
    }
   ],
   "source": [
    "# Define model\n",
    "model = yggdrasil(input_dim=x_train.size(1),hidden_dim=50,num_layers=1)\n",
    "criterion = nn.MSELoss()\n",
    "optimizer = optim.LBFGS(model.parameters(), lr = alpha)\n",
    "if use_cuda:\n",
    "    model = model.cuda()\n",
    "    criterion = criterion.cuda()\n",
    "losses = []\n",
    "        \n",
    "# Training\n",
    "t_start = time.time()\n",
    "t_p1 = time.time()\n",
    "for i_ep in range(N_ep):\n",
    "    # For LBFGS\n",
    "    def closure():\n",
    "        optimizer.zero_grad()\n",
    "        outputs = model(x_train)\n",
    "        loss = criterion(outputs, y_train)\n",
    "        losses.append(loss)\n",
    "        loss.backward()\n",
    "        return loss\n",
    "    \n",
    "    optimizer.step(closure)\n",
    "    \n",
    "    # Time stuff\n",
    "    if i_ep != 0 and i_ep % ep_rec == 0:\n",
    "        t_p2 = time.time()\n",
    "        print('Runtime for episodes ' + str(i_ep-ep_rec) + '-' + str(i_ep) + ': ' + str(t_p2-t_p1))\n",
    "        t_p1 = t_p2\n",
    "    \n",
    "t_finish = time.time()\n",
    "print('Total time: ' + str(t_finish-t_start) + ' s')"
   ]
  },
  {
   "cell_type": "markdown",
   "metadata": {},
   "source": [
    "# Plot"
   ]
  },
  {
   "cell_type": "code",
   "execution_count": 48,
   "metadata": {},
   "outputs": [
    {
     "data": {
      "image/png": "[encoded data removed]",
      "text/plain": [
       "<matplotlib.figure.Figure at 0x7f0a7ae93ef0>"
      ]
     },
     "metadata": {},
     "output_type": "display_data"
    }
   ],
   "source": [
    "train_output = model(x_train)\n",
    "plot_type = 0\n",
    "\n",
    "plt.figure()\n",
    "ohlcv_train = y_train.transpose(0,1)\n",
    "ohlcv_train_pred = train_output.transpose(0,1)\n",
    "plt.plot(ohlcv_train[plot_type],label='True data')\n",
    "plt.plot(ohlcv_train_pred[plot_type].detach(),label='Predictions')\n",
    "\n",
    "test_output = model(x_test)\n",
    "plt.legend()\n",
    "plt.savefig('test.png')\n",
    "plt.show()"
   ]
  },
  {
   "cell_type": "code",
   "execution_count": 41,
   "metadata": {},
   "outputs": [
    {
     "data": {
      "image/png": "[encoded data removed]",
      "text/plain": [
       "<matplotlib.figure.Figure at 0x7f0ab7b82470>"
      ]
     },
     "metadata": {},
     "output_type": "display_data"
    }
   ],
   "source": [
    "plt.plot(losses)\n",
    "plt.show()"
   ]
  },
  {
   "cell_type": "code",
   "execution_count": null,
   "metadata": {
    "collapsed": true
   },
   "outputs": [],
   "source": []
  }
 ],
 "metadata": {
  "anaconda-cloud": {},
  "kernelspec": {
   "display_name": "Python 3",
   "language": "python",
   "name": "python3"
  },
  "language_info": {
   "codemirror_mode": {
    "name": "ipython",
    "version": 3
   },
   "file_extension": ".py",
   "mimetype": "text/x-python",
   "name": "python",
   "nbconvert_exporter": "python",
   "pygments_lexer": "ipython3",
   "version": "3.6.1"
  }
 },
 "nbformat": 4,
 "nbformat_minor": 1
}
